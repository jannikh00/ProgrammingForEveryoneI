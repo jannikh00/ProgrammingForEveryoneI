{
  "nbformat": 4,
  "nbformat_minor": 0,
  "metadata": {
    "colab": {
      "provenance": []
    },
    "kernelspec": {
      "name": "python3",
      "display_name": "Python 3"
    },
    "language_info": {
      "name": "python"
    }
  },
  "cells": [
    {
      "cell_type": "markdown",
      "source": [
        "Welcome back! You want to figure out how to test the chatbot that you built. To demonstrate, we're going to show you an example with the shoe-sizing chatbot you built in Lab 1 and 2. Here it is for reference:"
      ],
      "metadata": {
        "id": "Kbf5V25YO7z0"
      }
    },
    {
      "cell_type": "code",
      "source": [
        "def us_to_eu_shoe_size(shoe_type, us_shoe_size):\n",
        "  us_to_eu = {\n",
        "  \"M\": 33,\n",
        "  \"W\": 31,\n",
        "  \"BK\": 32,\n",
        "  \"LK\": 18,\n",
        "  \"T\": -1\n",
        "  }\n",
        "  return us_shoe_size + us_to_eu[shoe_type]\n",
        "\n",
        "print(\"What's your name?\")\n",
        "name = input()\n",
        "\n",
        "print(\"Hello \" + name + \"! What type of shoe do you wear? Type M for Men's, W for Women's, BK for Big Kids', LK for Little Kids', or T for Toddlers'\")\n",
        "shoe_type = input()\n",
        "\n",
        "print(\"What's your US shoe size?\")\n",
        "us_shoe_size = int(input())\n",
        "eu_shoe_size = us_to_eu_shoe_size(shoe_type, us_shoe_size)\n",
        "\n",
        "print(\"Thanks \" + name + \"! Your European shoe size is: \" + str(eu_shoe_size))"
      ],
      "metadata": {
        "id": "JjE4O4PcPKsx",
        "colab": {
          "base_uri": "https://localhost:8080/"
        },
        "outputId": "6fe8924f-16ff-4814-b481-85af0fb881fc"
      },
      "execution_count": 1,
      "outputs": [
        {
          "output_type": "stream",
          "name": "stdout",
          "text": [
            "What's your name?\n",
            "Jannik\n",
            "Hello Jannik! What type of shoe do you wear? Type M for Men's, W for Women's, BK for Big Kids', LK for Little Kids', or T for Toddlers'\n",
            "M\n",
            "What's your US shoe size?\n",
            "9\n",
            "Thanks Jannik! Your European shoe size is: 42\n"
          ]
        }
      ]
    },
    {
      "cell_type": "markdown",
      "source": [
        "Testing code is important because we need to verify that it will work for different kinds of inputs. How do we represent an input to the chatbot? We're taking in three inputs from them - their name, shoe gender, and US shoe size. instead of using a list, we can use a tuple. [Tuples](https://www.w3schools.com/python/python_tuples.asp) are a data type in Python that let you store multiple items - they're different from lists because you can't change them after you create them. We'll then create a list of tuples that we can use to simulate different inputs to the chatbot."
      ],
      "metadata": {
        "id": "w-yRp-iqQE56"
      }
    },
    {
      "cell_type": "code",
      "source": [
        "people = [(\"Jeff\", \"M\", 11),\n",
        "          (\"Rebecca\", \"W\", 7),\n",
        "          (\"Frank\", \"BK\", 4),\n",
        "          (\"Emily\", \"LK\", 6),\n",
        "          (\"Joe\", \"T\", 3)]"
      ],
      "metadata": {
        "id": "H3mk-8EMQ-wh"
      },
      "execution_count": null,
      "outputs": []
    },
    {
      "cell_type": "markdown",
      "source": [
        "So how do we test all of these inputs? Do we have to write out code for each one? Nope! [Loops](https://www.w3schools.com/python/python_for_loops.asp) are one of the most powerful tools in programming - they allow you to travel over a sequence of data and run a piece of code each time. For loops are the most common kind of loop; they look like this:\n",
        "\n",
        "\n",
        "```\n",
        "for item in items:\n",
        "  #some code\n",
        "```\n",
        "\n",
        "The *item* can be named whatever you want, and each time the associated code runs it will use the next item in the sequence. *Items* is the sequence that you are traveling over - it can be a list, a tuple, a dictionary, a string, or a set.\n",
        "\n",
        "For example, you can print out each of the items in a list:"
      ],
      "metadata": {
        "id": "o4rOFnA-Xnbr"
      }
    },
    {
      "cell_type": "code",
      "source": [
        "numbers = [1, 2, 3, 4, 5]\n",
        "for number in numbers:\n",
        "  print(number)"
      ],
      "metadata": {
        "id": "SxodY3hAYfp5"
      },
      "execution_count": null,
      "outputs": []
    },
    {
      "cell_type": "markdown",
      "source": [
        "So to verify that the us_to_eu_shoe_size function works as intended, we will loop over the list of test cases. If it prints out the right European shoe sizes, we will know it is correct:\n",
        "\n",
        "Jeff: 44\n",
        "\n",
        "Rebecca: 38\n",
        "\n",
        "Frank: 36\n",
        "\n",
        "Emily: 24\n",
        "\n",
        "Joe: 2"
      ],
      "metadata": {
        "id": "OXRDb3dUUNs7"
      }
    },
    {
      "cell_type": "code",
      "source": [
        "for person in people:\n",
        "  print(person[0] + \": \" + str(us_to_eu_shoe_size(person[1], person[2])))"
      ],
      "metadata": {
        "id": "JysVg7xPVZIC",
        "colab": {
          "base_uri": "https://localhost:8080/",
          "height": 191
        },
        "outputId": "63ae8e0b-423a-487c-b4b6-d0ecb4bd34f4"
      },
      "execution_count": 2,
      "outputs": [
        {
          "output_type": "error",
          "ename": "NameError",
          "evalue": "ignored",
          "traceback": [
            "\u001b[0;31m---------------------------------------------------------------------------\u001b[0m",
            "\u001b[0;31mNameError\u001b[0m                                 Traceback (most recent call last)",
            "\u001b[0;32m<ipython-input-2-6513d4118115>\u001b[0m in \u001b[0;36m<cell line: 1>\u001b[0;34m()\u001b[0m\n\u001b[0;32m----> 1\u001b[0;31m \u001b[0;32mfor\u001b[0m \u001b[0mperson\u001b[0m \u001b[0;32min\u001b[0m \u001b[0mpeople\u001b[0m\u001b[0;34m:\u001b[0m\u001b[0;34m\u001b[0m\u001b[0;34m\u001b[0m\u001b[0m\n\u001b[0m\u001b[1;32m      2\u001b[0m   \u001b[0mprint\u001b[0m\u001b[0;34m(\u001b[0m\u001b[0mperson\u001b[0m\u001b[0;34m[\u001b[0m\u001b[0;36m0\u001b[0m\u001b[0;34m]\u001b[0m \u001b[0;34m+\u001b[0m \u001b[0;34m\": \"\u001b[0m \u001b[0;34m+\u001b[0m \u001b[0mstr\u001b[0m\u001b[0;34m(\u001b[0m\u001b[0mus_to_eu_shoe_size\u001b[0m\u001b[0;34m(\u001b[0m\u001b[0mperson\u001b[0m\u001b[0;34m[\u001b[0m\u001b[0;36m1\u001b[0m\u001b[0;34m]\u001b[0m\u001b[0;34m,\u001b[0m \u001b[0mperson\u001b[0m\u001b[0;34m[\u001b[0m\u001b[0;36m2\u001b[0m\u001b[0;34m]\u001b[0m\u001b[0;34m)\u001b[0m\u001b[0;34m)\u001b[0m\u001b[0;34m)\u001b[0m\u001b[0;34m\u001b[0m\u001b[0;34m\u001b[0m\u001b[0m\n",
            "\u001b[0;31mNameError\u001b[0m: name 'people' is not defined"
          ]
        }
      ]
    },
    {
      "cell_type": "markdown",
      "source": [
        "Your turn - your task is to write out a list of test cases for the chatbot that you built in the previous lab below. You must fulfill the following requirements:\n",
        "\n",
        "- You must create at least five distinct test cases in the form of tuples\n",
        "- You must loop through your test cases and verify that they all match the expected output\n",
        "- You must also write a one or two sentence explanation of your test cases and how they ensure your chatbot works correctly"
      ],
      "metadata": {
        "id": "BQzvH-G9Wg_t"
      }
    },
    {
      "cell_type": "code",
      "source": [
        "# In this store, the customer can buy a jersey of a player from a given list of the best footballers of all time.\n",
        "# The jerseys of players whose active time is closer to the present time are more expensive, as a greater demand is expected here.\n",
        "\n",
        "import sys\n",
        "\n",
        "football_players = [\"Lionel Messi (1)\", \"Cristiano Ronaldo (2)\", \"Pele (3)\", \"Diego Maradona (4)\"]\n",
        "\n",
        "def goat_education(number):\n",
        "  goats= {\n",
        "    1 : [\"Lionel Messi\", \"$100\"],\n",
        "    2 : [\"Cristiano Ronaldo\", \"$100\"],\n",
        "    3 : [\"Pele\", \"$80\"],\n",
        "    4 : [\"Diego Maradona\", \"$90\"]\n",
        "  }\n",
        "  if not (int(x) >= 1) or not (int(x) <= 4):\n",
        "    print(\"\\nPlease restart the program and choose a number between 1-4.\")\n",
        "    sys.exit()\n",
        "  return goats[number]\n",
        "\n",
        "def purchase_confirmation(letter):\n",
        "  if letter == \"Y\" or letter == \"y\":\n",
        "    return print(\"\\nThanks for your purchase. We hope you enjoy your jersey!\\n\")\n",
        "  elif letter == \"N\" or letter == \"n\":\n",
        "    return print(\"\\nThanks for your consideration. Feel free to check out the other players!\\n\")\n",
        "\n",
        "print(\"What is your name?\\n\")\n",
        "name = input()\n",
        "\n",
        "print(\"\\nHello \" + name + \"! Welcome to the soccer GOAT-store! Here you can buy a special GOAT jersey from each of the following GOATS:\\n\")\n",
        "print(football_players)\n",
        "print(\"\\n\")\n",
        "\n",
        "print(\"From which of the GOATS do you want to buy a jersey? Please put in the number.\\n\")\n",
        "\n",
        "x = input()\n",
        "y = goat_education(int(x))\n",
        "\n",
        "print(\"\\nPerfect! \" + y[0] + \" is always a good choice! Buying this jersey costs \" + y[1] + \". Do you want to buy it? Type >>Y<< for Yes or >>N<< for No.\\n\")\n",
        "\n",
        "confirm = input()\n",
        "purchase_confirmation(confirm)\n",
        "\n",
        "\n",
        "# Test tuples\n",
        "\n",
        "buyers = [(\"Andrew\", 1, \"Y\"),\n",
        "          (\"Joe\", 2, \"N\"),\n",
        "          (\"Carl\", 3, \"Y\"),\n",
        "          (\"Marc\", 4, \"y\"),\n",
        "          (\"Jan\", 1, \"n\")]\n",
        "\n",
        "# Test loop\n",
        "\n",
        "print(\"In the following the test cases will be displayed.\\n\")\n",
        "\n",
        "count = 1\n",
        "\n",
        "for i in buyers:\n",
        "\n",
        "  print(\"CASE \" + str(count) + \":\\n\" )\n",
        "  choice = goat_education(i[1])\n",
        "  print(i[0] + \": \" + choice[0] + \", \" + choice[1])\n",
        "  purchase_confirmation(i[2])\n",
        "  count += 1\n"
      ],
      "metadata": {
        "id": "tpjBXRaUWnbs",
        "colab": {
          "base_uri": "https://localhost:8080/"
        },
        "outputId": "24f44316-3329-4c0d-b6bd-f46488c87dbc"
      },
      "execution_count": 30,
      "outputs": [
        {
          "output_type": "stream",
          "name": "stdout",
          "text": [
            "What is your name?\n",
            "\n",
            "Jannik\n",
            "\n",
            "Hello Jannik! Welcome to the soccer GOAT-store! Here you can buy a special GOAT jersey from each of the following GOATS:\n",
            "\n",
            "['Lionel Messi (1)', 'Cristiano Ronaldo (2)', 'Pele (3)', 'Diego Maradona (4)']\n",
            "\n",
            "\n",
            "From which of the GOATS do you want to buy a jersey? Please put in the number.\n",
            "\n",
            "1\n",
            "\n",
            "Perfect! Lionel Messi is always a good choice! Buying this jersey costs $100. Do you want to buy it? Type >>Y<< for Yes or >>N<< for No.\n",
            "\n",
            "y\n",
            "\n",
            "Thanks for your purchase. We hope you enjoy your jersey!\n",
            "\n",
            "In the following the test cases will be displayed.\n",
            "\n",
            "CASE 1:\n",
            "\n",
            "Andrew: Lionel Messi, $100\n",
            "\n",
            "Thanks for your purchase. We hope you enjoy your jersey!\n",
            "\n",
            "CASE 2:\n",
            "\n",
            "Joe: Cristiano Ronaldo, $100\n",
            "\n",
            "Thanks for your consideration. Feel free to check out the other players!\n",
            "\n",
            "CASE 3:\n",
            "\n",
            "Carl: Pele, $80\n",
            "\n",
            "Thanks for your purchase. We hope you enjoy your jersey!\n",
            "\n",
            "CASE 4:\n",
            "\n",
            "Marc: Diego Maradona, $90\n",
            "\n",
            "Thanks for your purchase. We hope you enjoy your jersey!\n",
            "\n",
            "CASE 5:\n",
            "\n",
            "Jan: Lionel Messi, $100\n",
            "\n",
            "Thanks for your consideration. Feel free to check out the other players!\n",
            "\n"
          ]
        }
      ]
    },
    {
      "cell_type": "markdown",
      "source": [
        "My test cases test a number of possible inputs. Several names are requested, each possible player is tested at least once and the final purchase decision is also tested with upper as well as lower case."
      ],
      "metadata": {
        "id": "KmUIDNHiW95S"
      }
    }
  ]
}