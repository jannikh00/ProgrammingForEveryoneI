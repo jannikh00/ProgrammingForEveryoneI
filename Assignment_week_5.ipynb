{
  "nbformat": 4,
  "nbformat_minor": 0,
  "metadata": {
    "colab": {
      "provenance": []
    },
    "kernelspec": {
      "name": "python3",
      "display_name": "Python 3"
    },
    "language_info": {
      "name": "python"
    }
  },
  "cells": [
    {
      "cell_type": "markdown",
      "source": [
        "Welcome to Programming for Everyone I! This lab will teach you the basics of programming in Python. Click on the Play button on the left of the cell below to print out the message \"Hello world!\"."
      ],
      "metadata": {
        "id": "ey85HuGxi6M7"
      }
    },
    {
      "cell_type": "code",
      "execution_count": null,
      "metadata": {
        "id": "FAp2Sn0Ji3iX"
      },
      "outputs": [],
      "source": [
        "print(\"Hello world!\")"
      ]
    },
    {
      "cell_type": "markdown",
      "source": [
        ":So, where are we? This document is called a Jupyter notebook (you can tell by the .ipynb file ending). Jupyter notebooks allow you to write and run Python code in your browser. Take a look at the cell below: it contains the function [print()](https://www.w3schools.com/python/ref_func_print.asp). Print is one of the most important tools in any programming language - it lets you print out information from your code. Modify the code below to print out your own name and hit Shift+Enter to run the code."
      ],
      "metadata": {
        "id": "_CWsSu1Dj3Pv"
      }
    },
    {
      "cell_type": "code",
      "source": [
        "print(\"Hello YOUR_NAME!\")"
      ],
      "metadata": {
        "id": "DTYVBOwwj2kL"
      },
      "execution_count": null,
      "outputs": []
    },
    {
      "cell_type": "markdown",
      "source": [
        "So, why is that useful? Why would I just want to print out my own name?\n",
        "\n",
        "My name is Fred, and when my computer starts up, it says \"Hello Fred!\" When your computer starts up, it might say \"Hello Megan!\"\n",
        "\n",
        "When your computer's operating system was written, it didn't know that your name would be Fred or Megan. But it's possible to write code that will display a hello message to anyone's name, by using variables."
      ],
      "metadata": {
        "id": "1FFUwLQVlu-R"
      }
    },
    {
      "cell_type": "markdown",
      "source": [
        "# Variables"
      ],
      "metadata": {
        "id": "D1MXjhPVYRjs"
      }
    },
    {
      "cell_type": "markdown",
      "source": [
        "[Variables](https://www.w3schools.com/python/python_variables.asp) are the cornerstone of programming - you might have seen them before in your math classes, but they're about to get a lot more interesting. Variables have names (like *color*) and values (like \"red\"). In Python, you create variables according to the following syntax:\n",
        "\n",
        "```\n",
        "variable_name = value\n",
        "\n",
        "```\n",
        "\n",
        "For example:"
      ],
      "metadata": {
        "id": "7NOxPQussvVI"
      }
    },
    {
      "cell_type": "code",
      "source": [
        "color = \"red\""
      ],
      "metadata": {
        "id": "KVkz5svhrTZZ"
      },
      "execution_count": null,
      "outputs": []
    },
    {
      "cell_type": "markdown",
      "source": [
        "Now, if you print out the variable color, you'll see the value (\"red\") that you assigned to it:"
      ],
      "metadata": {
        "id": "HEwuu20QwARU"
      }
    },
    {
      "cell_type": "code",
      "source": [
        "print(color)"
      ],
      "metadata": {
        "id": "VY_qYYGRwIHp"
      },
      "execution_count": null,
      "outputs": []
    },
    {
      "cell_type": "markdown",
      "source": [
        "Now, we'll introduce another function - [input()](https://www.w3schools.com/python/ref_func_input.asp). The input function will cause the computer to pause and wait for you to type something in. Run the code below, enter your name in, and hit enter."
      ],
      "metadata": {
        "id": "8kuanvIxwtPq"
      }
    },
    {
      "cell_type": "code",
      "source": [
        "print(\"What's your name?\")\n",
        "name = input()\n",
        "print(\"Hello \" + name + \"!\")"
      ],
      "metadata": {
        "id": "2RatjKM9xfsY"
      },
      "execution_count": null,
      "outputs": []
    },
    {
      "cell_type": "markdown",
      "source": [
        "That right there is a (very simplified) version of how your computer gives you a welcome message! When you first set up your computer, it probably asked you what your name was. Once you entered it in, it was stored as a variable. Now, whenever your computer wants to say your name, it can simply use that variable."
      ],
      "metadata": {
        "id": "0w_G55WGx-ea"
      }
    },
    {
      "cell_type": "markdown",
      "source": [
        "So what exactly happened in the code above? Let's go through line-by-line:\n",
        "```\n",
        "print(\"What's your name?\")\n",
        "```\n",
        "Here, we print out the string \"What's your name?\". A [string](https://www.w3schools.com/python/python_strings.asp) is a sequence of characters - usually a word or sentence. Strings in Python are enclosed by single or double quotes.\n",
        "```\n",
        "name = input()\n",
        "```\n",
        "Now we have a variable assignment - the value of the input() function is assigned to the variable *name*. What's the value of the input() function? Whatever you type in - in this case, a string containing your name.\n",
        "```\n",
        "print(\"Hello \" + name + \"!\")\n",
        "```\n",
        "Finally, we print out our full message. Since your name string is stored in a variable, we need to use the + symbol to combine it with the \"Hello \" and \"!\" strings to form our message. This is referred to as string concatenation."
      ],
      "metadata": {
        "id": "LBMubsWzz2vy"
      }
    },
    {
      "cell_type": "markdown",
      "source": [
        "# Conditionals"
      ],
      "metadata": {
        "id": "NgCGcwg7aDwE"
      }
    },
    {
      "cell_type": "markdown",
      "source": [
        "Another powerful tool in programming is [conditionals](https://www.w3schools.com/python/python_conditions.asp) - more casually referred to as if/else statements. Conditionals allow you to use logic in your code and plan for different inputs. They follow this format:"
      ],
      "metadata": {
        "id": "MfYSJ62jaINZ"
      }
    },
    {
      "cell_type": "markdown",
      "source": [
        "```\n",
        "if (CONDITION):\n",
        "  #some code\n",
        "else:\n",
        "  #some code\n",
        "\n",
        "```\n",
        "Your condition can include any expression that evaluates to True or False. Logical expressions (like x > 8) evaluate to True if the statement is true, and False if it is false.\n",
        "\n",
        "If the condition evaluates to True, the code in the \"if\" block runs. If it evaluates to False, the code in the \"else\" block runs. Code that is bound by if/else statements also needs to be indented so that the computer knows it is part of a conditional."
      ],
      "metadata": {
        "id": "yB6ZTswsQKPB"
      }
    },
    {
      "cell_type": "markdown",
      "source": [
        "For example, let's modify the welcome message we created above to include two different greetings depending on the length of the person's name. Run the code below, and try typing in two different names (like \"Fred\" and \"Elizabeth\"). You'll notice that you get two different results."
      ],
      "metadata": {
        "id": "mEEI5UIJgTxl"
      }
    },
    {
      "cell_type": "code",
      "source": [
        "print(\"What's your name?\")\n",
        "name = input()\n",
        "\n",
        "if (len(name) >= 7):\n",
        "  print(\"Hello \" + name + \"! Your name is long!\")\n",
        "else:\n",
        "  print(\"Hello \" + name + \"! Your name is short!\")"
      ],
      "metadata": {
        "id": "ueRaZZ5qfOYL",
        "outputId": "0dda4a94-1ef0-43ed-8a73-50773928953f",
        "colab": {
          "base_uri": "https://localhost:8080/"
        }
      },
      "execution_count": null,
      "outputs": [
        {
          "output_type": "stream",
          "name": "stdout",
          "text": [
            "What's your name?\n",
            "Jannik\n",
            "Hello Jannik! Your name is short!\n"
          ]
        }
      ]
    },
    {
      "cell_type": "markdown",
      "source": [
        "How did that work? Here, our conditional expression is:\n",
        "```\n",
        "len(name) >= 7\n",
        "```\n",
        "len() is a Python function that returns the length of the inputted string. So len(name) will return the number of characters in your name. That number is then compared to 7 - if it's bigger or equal, the condition is *True*, and if it's smaller, it's *False*. When it's *True*, the computer runs the code in the *if* block:\n",
        "```\n",
        "print(\"Hello \" + name + \"! Your name is long!\")\n",
        "```\n",
        "And when it's *False*, the computer runs the code in the else block:\n",
        "```\n",
        "print(\"Hello \" + name + \"! Your name is short\")\n",
        "```"
      ],
      "metadata": {
        "id": "T7RfpLq0SfXj"
      }
    },
    {
      "cell_type": "markdown",
      "source": [
        "Conditionals can include more than just two outcomes; you can use the *elif* statement to include additional conditions. Like so:"
      ],
      "metadata": {
        "id": "6AzFObXaU2M_"
      }
    },
    {
      "cell_type": "code",
      "source": [
        "print(\"What's your name?\")\n",
        "name = input()\n",
        "\n",
        "if (len(name) >= 7):\n",
        "  print(\"Hello \" + name + \"! Your name is long!\")\n",
        "elif (4 <= len(name) <= 7):\n",
        "  print(\"Hello \" + name + \"! Your name is medium!\")\n",
        "else:\n",
        "  print(\"Hello \" + name + \"! Your name is short!\")"
      ],
      "metadata": {
        "id": "m-0xMaumTk-j",
        "colab": {
          "base_uri": "https://localhost:8080/"
        },
        "outputId": "40737584-acad-40b1-84df-f54d4ca09c2a"
      },
      "execution_count": 1,
      "outputs": [
        {
          "output_type": "stream",
          "name": "stdout",
          "text": [
            "What's your name?\n",
            "Kolo\n",
            "Hello Kolo! Your name is medium!\n"
          ]
        }
      ]
    },
    {
      "cell_type": "markdown",
      "source": [
        "When your computer sees multiple conditions (as indicated by *if* and *elif*), it goes through them one-by-one. As soon as a condition is *True*, it runs the corresponding code and skips over the remaining conditions. If none of the conditions are *True*, it arrives at the final block of code (*else*) and runs that."
      ],
      "metadata": {
        "id": "5Xx2r7ZaVxrD"
      }
    },
    {
      "cell_type": "markdown",
      "source": [
        "You can also just write an *if* statement with no *else* or *elif*, like so:\n"
      ],
      "metadata": {
        "id": "hqAygRawXJlL"
      }
    },
    {
      "cell_type": "code",
      "source": [
        "print(\"What's your name?\")\n",
        "name = input()\n",
        "\n",
        "if (len(name) >= 7):\n",
        "  print(\"Your name is long!\")"
      ],
      "metadata": {
        "id": "gmOAwl5SXFVE",
        "colab": {
          "base_uri": "https://localhost:8080/"
        },
        "outputId": "ee0249b1-5a7c-40c3-ecb3-2f62a0171546"
      },
      "execution_count": 2,
      "outputs": [
        {
          "output_type": "stream",
          "name": "stdout",
          "text": [
            "What's your name?\n",
            "Andrade\n",
            "Your name is long!\n"
          ]
        }
      ]
    },
    {
      "cell_type": "markdown",
      "source": [
        "# Putting it all together: building a chatbot"
      ],
      "metadata": {
        "id": "3JgYx_OZYkhq"
      }
    },
    {
      "cell_type": "markdown",
      "source": [
        "Congrats! You've just been hired at Crikey, a European shoe company. Your first assignment is to create a chatbot for US customers shopping online to help them determine their European shoe size. Your chatbot has the following requirements:\n",
        "- Ask the customer their name\n",
        "- Refer to the customer by their name in following messages\n",
        "- Ask the customer their US shoe size and if they wear men's or women's shoes\n",
        "- Tell the customer their European shoe size. For men's shoes, add 33 to the US size. For women's shoes, add 31 to the US size.\n",
        "\n",
        "We've given you sample code for the chatbot below, but it's not complete yet. Fill in the missing parts to get this chatbot to run!"
      ],
      "metadata": {
        "id": "QIOAMIY856rb"
      }
    },
    {
      "cell_type": "code",
      "source": [
        "print(\"What's your name?\")\n",
        "name = input()\n",
        "\n",
        "print(\"Hello \" + name + \"! Do you wear Men's or Women's shoes? Type M for Men's or W for Women's.\")\n",
        "shoe_type = input()\n",
        "if (shoe_type == \"m\"):\n",
        "  shoe_type = \"M\"\n",
        "elif (shoe_type == \"w\"):\n",
        "  shoe_type = \"W\"\n",
        "\n",
        "print(\"What's your US shoe size?\")\n",
        "us_shoe_size = float(input()) # using float to allow numbers with a comma, hope that's alright\n",
        "\n",
        "eu_shoe_size = 0\n",
        "if (shoe_type == 'M'):\n",
        "  eu_shoe_size = us_shoe_size + 33 ## fix this\n",
        "elif (shoe_type == 'W'):\n",
        "  eu_shoe_size = us_shoe_size + 31 ### Fix this\n",
        "\n",
        "print(\"Thanks \" + name + \"! Your European shoe size is: \" + str(eu_shoe_size))"
      ],
      "metadata": {
        "id": "yQ0vCcQcYnqf",
        "colab": {
          "base_uri": "https://localhost:8080/"
        },
        "outputId": "4a837c9e-f0df-4458-f002-5876ed91852f"
      },
      "execution_count": 6,
      "outputs": [
        {
          "output_type": "stream",
          "name": "stdout",
          "text": [
            "What's your name?\n",
            "Jannik\n",
            "Hello Jannik! Do you wear Men's or Women's shoes? Type M for Men's or W for Women's.\n",
            "m\n",
            "What's your US shoe size?\n",
            "9.5\n",
            "Thanks Jannik! Your European shoe size is: 42.5\n"
          ]
        }
      ]
    },
    {
      "cell_type": "markdown",
      "source": [
        "There's two functions in that code that you may not recognize - int() and str().\n",
        "\n",
        "When you type input to the computer, it assumes that you're typing in a string. So when you type in a number like 7, the computer takes it as a string containing the number \"7\". So we need to use int() to create an integer from it. And when we want to print out an integer, we need to create a string from it using str(). Don't worry about this too much for now - we'll cover data types in the next lab."
      ],
      "metadata": {
        "id": "4XGsdAppeEyO"
      }
    }
  ]
}