{
  "cells": [
    {
      "cell_type": "markdown",
      "metadata": {
        "id": "dvMA3qXI16RT"
      },
      "source": [
        "Welcome back! In this lab, we're going to improve the shoe-sizing chatbot that you built previous lab. Here it is for reference:"
      ]
    },
    {
      "cell_type": "code",
      "execution_count": 3,
      "metadata": {
        "colab": {
          "base_uri": "https://localhost:8080/"
        },
        "id": "MmdbD36p2FlJ",
        "outputId": "49abf5d1-5ee7-4dc7-c977-19c9208c6655"
      },
      "outputs": [
        {
          "name": "stdout",
          "output_type": "stream",
          "text": [
            "What's your name?\n",
            "Jannik\n",
            "Hello Jannik! Do you wear Men's or Women's shoes? Type M for Men's or W for Women's.\n",
            "M\n",
            "What's your US shoe size?\n",
            "9\n",
            "Thanks Jannik! Your European shoe size is: 42\n"
          ]
        }
      ],
      "source": [
        "print(\"What's your name?\")\n",
        "name = input()\n",
        "\n",
        "print(\"Hello \" + name + \"! Do you wear Men's or Women's shoes? Type M for Men's or W for Women's.\")\n",
        "shoe_gender = input()\n",
        "\n",
        "print(\"What's your US shoe size?\")\n",
        "us_shoe_size = int(input())\n",
        "\n",
        "eu_shoe_size = 0\n",
        "if (shoe_gender == 'M'):\n",
        "  eu_shoe_size = us_shoe_size + 33\n",
        "elif (shoe_gender == 'W'):\n",
        "  eu_shoe_size = us_shoe_size + 31\n",
        "\n",
        "print(\"Thanks \" + name + \"! Your European shoe size is: \" + str(eu_shoe_size))"
      ]
    },
    {
      "cell_type": "markdown",
      "metadata": {
        "id": "PsSPuYRa2vi6"
      },
      "source": [
        "Your manager at Crikey likes your chatbot and asks you to add support for Toddlers' shoe sizes."
      ]
    },
    {
      "cell_type": "markdown",
      "metadata": {
        "id": "HPWBTiiW3wEK"
      },
      "source": [
        "# Functions"
      ]
    },
    {
      "cell_type": "markdown",
      "metadata": {
        "id": "RCNpwr9s5I8l"
      },
      "source": [
        "To add support for Toddler's shoes, we add another conditional to our chatbot:"
      ]
    },
    {
      "cell_type": "code",
      "execution_count": null,
      "metadata": {
        "id": "IBYCZcNp5IQs"
      },
      "outputs": [],
      "source": [
        "print(\"What's your name?\")\n",
        "name = input()\n",
        "\n",
        "print(\"Hello \" + name + \"! What type of shoe do you wear? Type M for Men's, W for Women's, or T for Toddler's.\")\n",
        "shoe_type = input()\n",
        "\n",
        "print(\"What's your US shoe size?\")\n",
        "us_shoe_size = int(input())\n",
        "\n",
        "eu_shoe_size = 0\n",
        "if (shoe_type == 'M'):\n",
        "  eu_shoe_size = us_shoe_size + 33\n",
        "elif (shoe_type == 'W'):\n",
        "  eu_shoe_size = us_shoe_size + 31\n",
        "elif (shoe_type == 'T'):\n",
        "  eu_shoe_size = us_shoe_size - 1\n",
        "\n",
        "print(\"Thanks \" + name + \"! Your European shoe size is: \" + str(eu_shoe_size))"
      ]
    },
    {
      "cell_type": "markdown",
      "metadata": {
        "id": "8oB9M0CrX6_9"
      },
      "source": [
        "Your manager thinks your code for converting US to European shoe size is useful, and asks you to create a function from it. [Functions](https://www.w3schools.com/python/python_functions.asp) allow you to reuse code that you (or others) have written, and they also make your code cleaner and shorter. You've seen some before, like print() and len(), but we can also write our own. A function has a name, parameters, and code. They're defined in Python like this:\n",
        "```\n",
        "# def <function_name>(<param1>, <param2>, ...):\n",
        "    <code>\n",
        "```\n",
        "A function for converting US to European shoe size would look like:"
      ]
    },
    {
      "cell_type": "code",
      "execution_count": null,
      "metadata": {
        "id": "8Fi_83m66yee"
      },
      "outputs": [],
      "source": [
        "def us_to_eu_shoe_size(shoe_type, us_shoe_size):\n",
        "  if (shoe_type == 'M'):\n",
        "    return us_shoe_size + 33\n",
        "  elif (shoe_type == 'W'):\n",
        "    return us_shoe_size + 31\n",
        "  elif (shoe_type == 'T'):\n",
        "    return us_shoe_size - 1"
      ]
    },
    {
      "cell_type": "markdown",
      "metadata": {
        "id": "qPlhidAy9FdN"
      },
      "source": [
        "Now, we update our code to include our function:"
      ]
    },
    {
      "cell_type": "code",
      "execution_count": 6,
      "metadata": {
        "colab": {
          "base_uri": "https://localhost:8080/",
          "height": 344
        },
        "id": "3q9mv-e29Hwq",
        "outputId": "da7c9038-c76d-4d4e-a73f-ae61a4507abe"
      },
      "outputs": [
        {
          "name": "stdout",
          "output_type": "stream",
          "text": [
            "What's your name?\n",
            "Jannik\n",
            "Hello Jannik! What type of shoe do you wear? Type M for Men's, W for Women's, or T for Toddler's.\n",
            "M\n",
            "What's your US shoe size?\n",
            "9\n"
          ]
        },
        {
          "ename": "NameError",
          "evalue": "ignored",
          "output_type": "error",
          "traceback": [
            "\u001b[0;31m---------------------------------------------------------------------------\u001b[0m",
            "\u001b[0;31mNameError\u001b[0m                                 Traceback (most recent call last)",
            "\u001b[0;32m<ipython-input-6-620006d99424>\u001b[0m in \u001b[0;36m<cell line: 9>\u001b[0;34m()\u001b[0m\n\u001b[1;32m      7\u001b[0m \u001b[0mprint\u001b[0m\u001b[0;34m(\u001b[0m\u001b[0;34m\"What's your US shoe size?\"\u001b[0m\u001b[0;34m)\u001b[0m\u001b[0;34m\u001b[0m\u001b[0;34m\u001b[0m\u001b[0m\n\u001b[1;32m      8\u001b[0m \u001b[0mus_shoe_size\u001b[0m \u001b[0;34m=\u001b[0m \u001b[0mint\u001b[0m\u001b[0;34m(\u001b[0m\u001b[0minput\u001b[0m\u001b[0;34m(\u001b[0m\u001b[0;34m)\u001b[0m\u001b[0;34m)\u001b[0m\u001b[0;34m\u001b[0m\u001b[0;34m\u001b[0m\u001b[0m\n\u001b[0;32m----> 9\u001b[0;31m \u001b[0meu_shoe_size\u001b[0m \u001b[0;34m=\u001b[0m \u001b[0mus_to_eu_shoe_size\u001b[0m\u001b[0;34m(\u001b[0m\u001b[0mshoe_type\u001b[0m\u001b[0;34m,\u001b[0m \u001b[0mus_shoe_size\u001b[0m\u001b[0;34m)\u001b[0m\u001b[0;34m\u001b[0m\u001b[0;34m\u001b[0m\u001b[0m\n\u001b[0m\u001b[1;32m     10\u001b[0m \u001b[0;34m\u001b[0m\u001b[0m\n\u001b[1;32m     11\u001b[0m \u001b[0mprint\u001b[0m\u001b[0;34m(\u001b[0m\u001b[0;34m\"Thanks \"\u001b[0m \u001b[0;34m+\u001b[0m \u001b[0mname\u001b[0m \u001b[0;34m+\u001b[0m \u001b[0;34m\"! Your European shoe size is: \"\u001b[0m \u001b[0;34m+\u001b[0m \u001b[0mstr\u001b[0m\u001b[0;34m(\u001b[0m\u001b[0meu_shoe_size\u001b[0m\u001b[0;34m)\u001b[0m\u001b[0;34m)\u001b[0m\u001b[0;34m\u001b[0m\u001b[0;34m\u001b[0m\u001b[0m\n",
            "\u001b[0;31mNameError\u001b[0m: name 'us_to_eu_shoe_size' is not defined"
          ]
        }
      ],
      "source": [
        "print(\"What's your name?\")\n",
        "name = input()\n",
        "\n",
        "print(\"Hello \" + name + \"! What type of shoe do you wear? Type M for Men's, W for Women's, or T for Toddler's.\")\n",
        "shoe_type = input()\n",
        "\n",
        "print(\"What's your US shoe size?\")\n",
        "us_shoe_size = int(input())\n",
        "eu_shoe_size = us_to_eu_shoe_size(shoe_type, us_shoe_size)\n",
        "\n",
        "print(\"Thanks \" + name + \"! Your European shoe size is: \" + str(eu_shoe_size))"
      ]
    },
    {
      "cell_type": "markdown",
      "metadata": {
        "id": "Ed0g8rNw-SCH"
      },
      "source": [
        "Looks a lot cleaner."
      ]
    },
    {
      "cell_type": "markdown",
      "metadata": {
        "id": "ae-PoJK9_xZG"
      },
      "source": [
        "# Data Types"
      ]
    },
    {
      "cell_type": "markdown",
      "metadata": {
        "id": "7tQ91jo4_2EN"
      },
      "source": [
        "Your manager is impressed and asks you to add support for Big Kids', Little Kids', and Infants' shoes. You update your shoe size converting function:"
      ]
    },
    {
      "cell_type": "code",
      "execution_count": 7,
      "metadata": {
        "id": "f3liwSxr-5Dp"
      },
      "outputs": [],
      "source": [
        "def us_to_eu_shoe_size(shoe_type, us_shoe_size):\n",
        "  if (shoe_type == 'M'):\n",
        "    return us_shoe_size + 33\n",
        "  elif (shoe_type == 'W'):\n",
        "    return us_shoe_size + 31\n",
        "  elif (shoe_type == 'BK'):\n",
        "    return us_shoe_size + 32\n",
        "  elif (shoe_type == 'LK'):\n",
        "    return us_shoe_size + 18\n",
        "  elif (shoe_type == 'T'):\n",
        "    return us_shoe_size - 1"
      ]
    },
    {
      "cell_type": "markdown",
      "metadata": {
        "id": "QWhEZ8tW_UpC"
      },
      "source": [
        "Now this function is starting to get a bit complicated. Your manager recommends you use a [dictionary](https://www.w3schools.com/python/python_dictionaries.asp) to convert shoe sizes instead. A dictionary is a [data type](https://www.w3schools.com/python/python_datatypes.asp) that allows you to store key-value pairs. It's defined like this:\n",
        "```\n",
        "dict = {\n",
        "  key1: val1,\n",
        "  key2: val2,\n",
        "  key3: val3,\n",
        "  ...\n",
        "}\n",
        "```"
      ]
    },
    {
      "cell_type": "markdown",
      "metadata": {
        "id": "h0DjAMvLAW5e"
      },
      "source": [
        "You can retrieve the value corresponding to a key like this:\n",
        "```\n",
        "value = dict[key1]\n",
        "```"
      ]
    },
    {
      "cell_type": "markdown",
      "metadata": {
        "id": "v-NHoEEdBCvF"
      },
      "source": [
        "A dictionary for converting US to European shoe size would look like this:"
      ]
    },
    {
      "cell_type": "code",
      "execution_count": null,
      "metadata": {
        "id": "H1syhzrqBFfQ"
      },
      "outputs": [],
      "source": [
        "us_to_eu = {\n",
        "  \"M\": 33,\n",
        "  \"W\": 31,\n",
        "  \"BK\": 32,\n",
        "  \"LK\": 18,\n",
        "  \"T\": -1\n",
        "}"
      ]
    },
    {
      "cell_type": "markdown",
      "metadata": {
        "id": "pTPtJfFdBXhu"
      },
      "source": [
        "Now, your function looks like this:"
      ]
    },
    {
      "cell_type": "code",
      "execution_count": null,
      "metadata": {
        "id": "M0Co7XtjBZ6s"
      },
      "outputs": [],
      "source": [
        "def us_to_eu_shoe_size(shoe_type, us_shoe_size):\n",
        "  us_to_eu = {\n",
        "  \"M\": 33,\n",
        "  \"W\": 31,\n",
        "  \"BK\": 32,\n",
        "  \"LK\": 18,\n",
        "  \"T\": -1\n",
        "  }\n",
        "  return us_shoe_size + us_to_eu[shoe_type]"
      ]
    },
    {
      "cell_type": "markdown",
      "metadata": {
        "id": "6ugvzlJwDg3P"
      },
      "source": [
        "And your script is updated to look like this:"
      ]
    },
    {
      "cell_type": "code",
      "execution_count": null,
      "metadata": {
        "id": "RzpjFTPaDnad"
      },
      "outputs": [],
      "source": [
        "print(\"What's your name?\")\n",
        "name = input()\n",
        "\n",
        "print(\"Hello \" + name + \"! What type of shoe do you wear? Type M for Men's, W for Women's, BK for Big Kids', LK for Little Kids', or T for Toddlers'\")\n",
        "shoe_type = input()\n",
        "\n",
        "print(\"What's your US shoe size?\")\n",
        "us_shoe_size = int(input())\n",
        "eu_shoe_size = us_to_eu_shoe_size(shoe_type, us_shoe_size)\n",
        "\n",
        "print(\"Thanks \" + name + \"! Your European shoe size is: \" + str(eu_shoe_size))"
      ]
    },
    {
      "cell_type": "markdown",
      "metadata": {
        "id": "FMDz9AD3EBZm"
      },
      "source": [
        "This list of shoe types is also getting kind of long. Luckily, Python has another data type called a [list](https://www.w3schools.com/python/python_lists.asp) that will make this easier. Lists are, well, lists of items. You declare them like this:\n",
        "```\n",
        "list = [item1, item2, item3, item4]\n",
        "\n",
        "```\n",
        "\n"
      ]
    },
    {
      "cell_type": "markdown",
      "metadata": {
        "id": "ghetaWgTEvBv"
      },
      "source": [
        "You can get an item from a list by its index - the elements in a list are ordered from 0 and up.\n",
        "```\n",
        "item1 = list[0]\n",
        "```\n"
      ]
    },
    {
      "cell_type": "markdown",
      "metadata": {
        "id": "OZHtaEBYFOHQ"
      },
      "source": [
        "Here's a list of our shoe types:"
      ]
    },
    {
      "cell_type": "code",
      "execution_count": null,
      "metadata": {
        "id": "mKWgxhESERDH"
      },
      "outputs": [],
      "source": [
        "shoe_types = [\"M\", \"W\", \"BK\", \"LK\", \"T\"]"
      ]
    },
    {
      "cell_type": "markdown",
      "metadata": {
        "id": "lCsY8GTtFjRJ"
      },
      "source": [
        "And our script updated to use the list:"
      ]
    },
    {
      "cell_type": "code",
      "execution_count": null,
      "metadata": {
        "id": "szDjy3wqFlDC"
      },
      "outputs": [],
      "source": [
        "print(\"What's your name?\")\n",
        "name = input()\n",
        "\n",
        "print(\"Hello \" + name + \"! What type of shoe do you wear? Type one of the following options:\")\n",
        "print(shoe_types)\n",
        "shoe_type = input()\n",
        "\n",
        "print(\"What's your US shoe size?\")\n",
        "us_shoe_size = int(input())\n",
        "eu_shoe_size = us_to_eu_shoe_size(shoe_type, us_shoe_size)\n",
        "\n",
        "print(\"Thanks \" + name + \"! Your European shoe size is: \" + str(eu_shoe_size))"
      ]
    },
    {
      "cell_type": "markdown",
      "metadata": {
        "id": "nt8la-7tPKgp"
      },
      "source": [
        "# Building your own chatbot"
      ]
    },
    {
      "cell_type": "markdown",
      "metadata": {
        "id": "MDKFTlRSGDsb"
      },
      "source": [
        "Alright - your turn! You got bored at Crikey and have decided to start your own online store. Choose a product to sell and create a chatbot to assist customers in making a purchase. Your chatbot must fulfill the following requirements:\n",
        "\n",
        "- You must ask the user for their input and store it in a variable at least once\n",
        "- You must use at least one conditional to make the chatbot behave differently based on the user's input\n",
        "- You must use a list or dictionary, or both\n",
        "\n",
        "You also must write out a sentence or two explaining what your chatbot does. You are also free to make a chatbot that does something other than sell a product, as long as it fulfills the requirements above. Please keep it classroom friendly.\n",
        "\n",
        "You are free to reuse code from the previous labs.\n"
      ]
    },
    {
      "cell_type": "code",
      "execution_count": 3,
      "metadata": {
        "colab": {
          "base_uri": "https://localhost:8080/"
        },
        "id": "agRylYnaPcCc",
        "outputId": "f2aad996-8c45-4628-e00a-f003e13a3475"
      },
      "outputs": [
        {
          "name": "stdout",
          "output_type": "stream",
          "text": [
            "What is your name?\n",
            "\n",
            "Charlie\n",
            "\n",
            "Hello Charlie! I think we all agree that the GOAT talks in soccer are limited to the following players.\n",
            "\n",
            "['Lionel Messi (1)', 'Cristiano Ronaldo (2)', 'Pele (3)', 'Diego Maradona (4)']\n",
            "\n",
            "\n",
            "Who is the one and only GOAT in your opinion? Please put in the number.\n",
            "\n",
            "1\n",
            "\n",
            "You're right!  Lionel Messi is the one and only GOAT. Congratulations on knowing ball!\n"
          ]
        }
      ],
      "source": [
        "# This program asks the user to pick a player out of the given soccer-GOAT-discussion list.\n",
        "# Depending on the choice it says whether the choice is right or wrong. Please take it with humor if you don't agree :)\n",
        "\n",
        "import sys\n",
        "\n",
        "football_players = [\"Lionel Messi (1)\", \"Cristiano Ronaldo (2)\", \"Pele (3)\", \"Diego Maradona (4)\"]\n",
        "\n",
        "goats= {\n",
        "    1 : \"Lionel Messi\",\n",
        "    2 : \"Cristiano Ronaldo\",\n",
        "    3 : \"Pele\",\n",
        "    4 : \"Diego Maradona\"\n",
        "}\n",
        "\n",
        "print(\"What is your name?\\n\")\n",
        "name = input()\n",
        "\n",
        "print(\"\\nHello \" + name + \"! I think we all agree that the GOAT talks in soccer are limited to the following players.\\n\")\n",
        "print(football_players)\n",
        "print(\"\\n\")\n",
        "\n",
        "print(\"Who is the one and only GOAT in your opinion? Please put in the number.\\n\")\n",
        "\n",
        "x = input()\n",
        "if int(x) >= 5 or int(x) <= 0:\n",
        "    print(\"\\nPlease restart the program and choose a number between 1-4.\")\n",
        "    sys.exit()\n",
        "y = goats[int(x)]\n",
        "\n",
        "if int(x) == 1:\n",
        "    print(\"\\nYou're right!  \" + y + \" is the one and only GOAT. Congratulations on knowing ball!\")\n",
        "else:\n",
        "    print(\"\\nI'm sorry. Unfortunately you're wrong. \" + y + \" is not the GOAT.\")\n",
        "    print(\"The one and only GOAT is \" + goats[1] + \"! I hope you learned something out of using this program.\")"
      ]
    }
  ],
  "metadata": {
    "colab": {
      "provenance": []
    },
    "kernelspec": {
      "display_name": "Python 3",
      "name": "python3"
    },
    "language_info": {
      "name": "python"
    }
  },
  "nbformat": 4,
  "nbformat_minor": 0
}
